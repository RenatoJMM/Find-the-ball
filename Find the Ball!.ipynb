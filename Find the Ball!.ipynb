{
 "cells": [
  {
   "cell_type": "code",
   "execution_count": 1,
   "id": "f47a0211",
   "metadata": {},
   "outputs": [],
   "source": [
    "#IMPORTING THE SHUFFLE METHOD FROM RANDOM MODULE\n",
    "from random import shuffle\n",
    "\n",
    "#CREATING A FUNCTION THAT SHUFFLE THE LIST\n",
    "def shuffle_list(mylist):\n",
    "    shuffle(mylist)\n",
    "    return mylist\n",
    "\n",
    "#FUNCTION TO USER INPUT HIS ANSWER\n",
    "def players_guess():\n",
    "    guess = \"\"\n",
    "    while guess not in [\"0\",\"1\",\"2\"]:\n",
    "        guess = input(\"Pick a number: 0, 1 or 2 -> \")\n",
    "    return int(guess)\n",
    "\n",
    "#FUNCTION TO VALIDATE THE GIVING ANSWER\n",
    "def check_guess(mylist,guess):\n",
    "    if mylist[guess] == \"O\":\n",
    "        print(\"Correct!\")\n",
    "    else:\n",
    "        print(\"Wrong Guess!\")\n",
    "        print(mylist)"
   ]
  },
  {
   "cell_type": "code",
   "execution_count": 3,
   "id": "8cdda79d",
   "metadata": {},
   "outputs": [
    {
     "name": "stdout",
     "output_type": "stream",
     "text": [
      "Pick a number: 0, 1 or 2 -> 1\n",
      "Correct!\n"
     ]
    }
   ],
   "source": [
    "#INITIAL LIST\n",
    "mylist = [\" \",\"O\",\" \"]\n",
    "\n",
    "#SHUFFLE THE LIST\n",
    "mixedup_list = shuffle_list(mylist)\n",
    "\n",
    "#USER GUESS\n",
    "guess = players_guess()\n",
    "\n",
    "#CHECK GUESS\n",
    "check_guess(mixedup_list,guess)"
   ]
  }
 ],
 "metadata": {
  "kernelspec": {
   "display_name": "py38_jupyter_kernel",
   "language": "python",
   "name": "py38_jupyter_kernel"
  },
  "language_info": {
   "codemirror_mode": {
    "name": "ipython",
    "version": 3
   },
   "file_extension": ".py",
   "mimetype": "text/x-python",
   "name": "python",
   "nbconvert_exporter": "python",
   "pygments_lexer": "ipython3",
   "version": "3.8.13"
  }
 },
 "nbformat": 4,
 "nbformat_minor": 5
}
